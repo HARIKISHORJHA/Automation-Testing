{
 "cells": [
  {
   "cell_type": "markdown",
   "id": "5bb6d842",
   "metadata": {},
   "source": [
    "## Importing libraries"
   ]
  },
  {
   "cell_type": "code",
   "execution_count": 1,
   "id": "2018e036",
   "metadata": {},
   "outputs": [],
   "source": [
    "from selenium import webdriver\n",
    "import time"
   ]
  },
  {
   "cell_type": "markdown",
   "id": "a1123f02",
   "metadata": {},
   "source": [
    "## Webdriver Commands"
   ]
  },
  {
   "cell_type": "code",
   "execution_count": 2,
   "id": "7e552f03",
   "metadata": {},
   "outputs": [
    {
     "name": "stdout",
     "output_type": "stream",
     "text": [
      "Most Powerful Cross Browser Testing Tool Online | LambdaTest\n"
     ]
    }
   ],
   "source": [
    "driver=webdriver.Chrome(executable_path=\"chromedriver\") #opening chromewebdriver\n",
    "driver.get(\"https://www.lambdatest.com/\") #opening a website for testing\n",
    "print(driver.title) #Printing website title\n",
    "driver.maximize_window()\n",
    "time.sleep(5)\n",
    "driver.minimize_window()"
   ]
  },
  {
   "cell_type": "markdown",
   "id": "e8b1bf74",
   "metadata": {},
   "source": [
    "## Nevigational Command"
   ]
  },
  {
   "cell_type": "code",
   "execution_count": 3,
   "id": "94a88758",
   "metadata": {},
   "outputs": [],
   "source": [
    "driver.get('https://google.com/')\n",
    "time.sleep(5)\n",
    "driver.back()\n",
    "time.sleep(5)\n",
    "driver.forward()\n",
    "time.sleep(5)\n",
    "driver.back()"
   ]
  },
  {
   "cell_type": "markdown",
   "id": "da11b74d",
   "metadata": {},
   "source": [
    "## Conditional commands"
   ]
  },
  {
   "cell_type": "code",
   "execution_count": 4,
   "id": "82e10165",
   "metadata": {},
   "outputs": [],
   "source": [
    "var=driver.find_element_by_class_name(\"rounded-l\")"
   ]
  },
  {
   "cell_type": "code",
   "execution_count": 5,
   "id": "b5636bc9",
   "metadata": {},
   "outputs": [
    {
     "name": "stdout",
     "output_type": "stream",
     "text": [
      "True\n",
      "True\n"
     ]
    }
   ],
   "source": [
    "time.sleep(15)\n",
    "print(var.is_displayed())#Checking input box is displayed or not\n",
    "time.sleep(5)\n",
    "print(var.is_enabled())#checking if it is enabled or not"
   ]
  },
  {
   "cell_type": "code",
   "execution_count": 13,
   "id": "1072f48e",
   "metadata": {},
   "outputs": [
    {
     "name": "stdout",
     "output_type": "stream",
     "text": [
      "False\n"
     ]
    }
   ],
   "source": [
    "driver.get(\"https://www.w3schools.com/html/html_forms.asp\")\n",
    "var=driver.find_element_by_id(\"vehicle1\")\n",
    "print(var.is_selected()) # checking if radio button is selected or not"
   ]
  },
  {
   "cell_type": "markdown",
   "id": "0c372633",
   "metadata": {},
   "source": [
    "## Explicit- Implicit Command"
   ]
  },
  {
   "cell_type": "markdown",
   "id": "b3738158",
   "metadata": {},
   "source": [
    "### Explicit Command"
   ]
  },
  {
   "cell_type": "code",
   "execution_count": 38,
   "id": "6bd8e08f",
   "metadata": {},
   "outputs": [
    {
     "name": "stdout",
     "output_type": "stream",
     "text": [
      "<selenium.webdriver.remote.webelement.WebElement (session=\"230d1f4b968b1e4a4e2ba0a0f7bd0c31\", element=\"6a1428e9-eb78-4a84-8571-c2e48d5c9af2\")>\n",
      "Element Id is located \n"
     ]
    }
   ],
   "source": [
    "from selenium import webdriver\n",
    "from selenium.webdriver.common.by import By\n",
    "from selenium.webdriver.support.ui import WebDriverWait\n",
    "from selenium.webdriver.support import expected_conditions as EC\n",
    "driver=webdriver.Chrome(executable_path=\"chromedriver\")\n",
    "driver.get(\"https://www.w3schools.com/\")\n",
    "try:\n",
    "    element=WebDriverWait(driver,10).until(EC.presence_of_element_located((By.ID,\"myAccordion\"))) #if the element is located it will exit.\n",
    "    print(element)\n",
    "    print(\"Element Id is located \")\n",
    "    \n",
    "finally:\n",
    "    driver.quit()"
   ]
  },
  {
   "cell_type": "markdown",
   "id": "a3ef62c5",
   "metadata": {},
   "source": [
    "### Implicitly_wait"
   ]
  },
  {
   "cell_type": "code",
   "execution_count": 35,
   "id": "e9c47a14",
   "metadata": {},
   "outputs": [
    {
     "name": "stdout",
     "output_type": "stream",
     "text": [
      "<selenium.webdriver.remote.webelement.WebElement (session=\"a9762390e8e890179c4a283f07e02d3d\", element=\"88673d59-e702-4696-b5ce-61a0f1998775\")>\n",
      "everything is fine\n"
     ]
    }
   ],
   "source": [
    "from selenium import webdriver\n",
    "driver=webdriver.Chrome(executable_path=\"chromedriver\")\n",
    "driver.get(\"https://www.w3schools.com/\")\n",
    "driver.implicitly_wait(10)\n",
    "element=driver.find_element_by_id(\"navbtn_menu\") #If the element is not found in the limited time than it will automatically quit the page\n",
    "print(element)\n",
    "print(\"everything is fine\")\n",
    "driver.quit()"
   ]
  },
  {
   "cell_type": "markdown",
   "id": "e5f07696",
   "metadata": {},
   "source": [
    "### Input Box and Text Box flling by automation"
   ]
  },
  {
   "cell_type": "code",
   "execution_count": 41,
   "id": "8687282d",
   "metadata": {},
   "outputs": [],
   "source": [
    "from selenium import webdriver\n",
    "driver=webdriver.Chrome(executable_path=\"chromedriver\")\n",
    "driver.get(\"https://www.w3schools.com/\") \n",
    "name=driver.find_element_by_id(\"search2\") \n",
    "name.send_keys(\"HTML\") # Enter the details into input box\n",
    "time.sleep(10)  \n",
    "button=driver.find_element_by_id(\"learntocode_searchbtn\")\n",
    "button.click() #clicking the search button.\n"
   ]
  },
  {
   "cell_type": "markdown",
   "id": "0f4adde2",
   "metadata": {},
   "source": [
    "### Radio Button Click and Checkboxes"
   ]
  },
  {
   "cell_type": "code",
   "execution_count": 44,
   "id": "cf760acb",
   "metadata": {},
   "outputs": [],
   "source": [
    "from selenium import webdriver\n",
    "driver=webdriver.Chrome(executable_path=\"chromedriver\")\n",
    "driver.get(\"https://www.w3schools.com/html/html_forms.asp\")\n",
    "var=driver.find_element_by_id(\"vehicle1\")\n",
    "var.click() \n",
    "time.sleep(5)\n"
   ]
  },
  {
   "cell_type": "markdown",
   "id": "73920364",
   "metadata": {},
   "source": [
    "### Dropdown Selection"
   ]
  },
  {
   "cell_type": "code",
   "execution_count": 21,
   "id": "c7402777",
   "metadata": {},
   "outputs": [
    {
     "name": "stdout",
     "output_type": "stream",
     "text": [
      "Go!!!\n",
      "first test working\n",
      "second test working\n"
     ]
    }
   ],
   "source": [
    "from selenium import webdriver\n",
    "from selenium.webdriver.support.ui import Select\n",
    "import time\n",
    "driver=webdriver.Chrome(executable_path=\"chromedriver\")\n",
    "driver.get(\"https://getbootstrap.com/docs/4.0/content/reboot/\")\n",
    "var=Select(driver.find_element_by_id(\"select\"))\n",
    "print(\"Go!!!\")\n",
    "time.sleep(5)\n",
    "var.select_by_index(\"1\")\n",
    "print(\"first test working\")\n",
    "time.sleep(5)\n",
    "var.select_by_visible_text(\"Option 2\")\n",
    "print(\"second test working\")\n",
    "#var.select_by_value(\"# enter value\")  \n"
   ]
  },
  {
   "cell_type": "code",
   "execution_count": null,
   "id": "4a78fc08",
   "metadata": {},
   "outputs": [],
   "source": []
  }
 ],
 "metadata": {
  "kernelspec": {
   "display_name": "Python 3 (ipykernel)",
   "language": "python",
   "name": "python3"
  },
  "language_info": {
   "codemirror_mode": {
    "name": "ipython",
    "version": 3
   },
   "file_extension": ".py",
   "mimetype": "text/x-python",
   "name": "python",
   "nbconvert_exporter": "python",
   "pygments_lexer": "ipython3",
   "version": "3.9.12"
  }
 },
 "nbformat": 4,
 "nbformat_minor": 5
}
